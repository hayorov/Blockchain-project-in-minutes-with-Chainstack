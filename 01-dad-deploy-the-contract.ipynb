{
 "cells": [
  {
   "cell_type": "code",
   "execution_count": 20,
   "metadata": {
    "scrolled": false,
    "slideshow": {
     "slide_type": "slide"
    }
   },
   "outputs": [],
   "source": [
    "import json\n",
    "import web3\n",
    "\n",
    "from web3 import Web3\n",
    "from solc import compile_source\n",
    "from web3.contract import ConciseContract"
   ]
  },
  {
   "cell_type": "code",
   "execution_count": 21,
   "metadata": {
    "scrolled": true,
    "slideshow": {
     "slide_type": "slide"
    }
   },
   "outputs": [],
   "source": [
    "# Solidity source code\n",
    "contract_source_code = '''\n",
    "pragma solidity >0.4.0;\n",
    "\n",
    "contract simplestorage {\n",
    "\n",
    "  int public familyBalance;\n",
    "  address public otherParentAddr;\n",
    "  address public balanceSetterAddr;\n",
    "\n",
    "  constructor(address parentAddr) public {\n",
    "    familyBalance = 0;\n",
    "    balanceSetterAddr = msg.sender;\n",
    "    otherParentAddr = parentAddr;\n",
    "  }\n",
    "\n",
    "  function makeRecord(int x) public {\n",
    "    if (x <= 0) {\n",
    "        familyBalance = familyBalance + x;\n",
    "    }\n",
    "    else {\n",
    "        if (msg.sender == balanceSetterAddr || msg.sender == otherParentAddr) {\n",
    "            familyBalance = familyBalance + x;\n",
    "        }\n",
    "    }\n",
    "  }\n",
    "\n",
    "  function getBalance() public view returns (int retVal) {\n",
    "    return familyBalance;\n",
    "  }\n",
    "\n",
    "}\n",
    "'''\n",
    "# Compiled source code\n",
    "compiled_sol = compile_source(contract_source_code) \n",
    "contract_interface = compiled_sol['<stdin>:simplestorage']"
   ]
  },
  {
   "cell_type": "code",
   "execution_count": 22,
   "metadata": {
    "scrolled": true,
    "slideshow": {
     "slide_type": "subslide"
    }
   },
   "outputs": [
    {
     "data": {
      "text/plain": [
       "'608060405234801561001057600080fd5b506040516020806103ce833981018060405281019080805190602001909291905050506000808190555033600260006101000a81548173ffffffffffffffffffffffffffffffffffffffff021916908373ffffffffffffffffffffffffffffffffffffffff16021790555080600160006101000a81548173ffffffffffffffffffffffffffffffffffffffff021916908373ffffffffffffffffffffffffffffffffffffffff16021790555050610302806100cc6000396000f30060806040526004361061006d576000357c0100000000000000000000000000000000000000000000000000000000900463ffffffff16806312065fe0146100725780638b1579d71461009d5780639c7ed1af146100f4578063ebe4b0031461014b578063ecf7ee4a14610176575b600080fd5b34801561007e57600080fd5b506100876101a3565b6040518082815260200191505060405180910390f35b3480156100a957600080fd5b506100b26101ac565b604051808273ffffffffffffffffffffffffffffffffffffffff1673ffffffffffffffffffffffffffffffffffffffff16815260200191505060405180910390f35b34801561010057600080fd5b506101096101d2565b604051808273ffffffffffffffffffffffffffffffffffffffff1673ffffffffffffffffffffffffffffffffffffffff16815260200191505060405180910390f35b34801561015757600080fd5b506101606101f8565b6040518082815260200191505060405180910390f35b34801561018257600080fd5b506101a1600480360381019080803590602001909291905050506101fe565b005b60008054905090565b600260009054906101000a900473ffffffffffffffffffffffffffffffffffffffff1681565b600160009054906101000a900473ffffffffffffffffffffffffffffffffffffffff1681565b60005481565b6000811315156102185780600054016000819055506102d3565b600260009054906101000a900473ffffffffffffffffffffffffffffffffffffffff1673ffffffffffffffffffffffffffffffffffffffff163373ffffffffffffffffffffffffffffffffffffffff1614806102c15750600160009054906101000a900473ffffffffffffffffffffffffffffffffffffffff1673ffffffffffffffffffffffffffffffffffffffff163373ffffffffffffffffffffffffffffffffffffffff16145b156102d25780600054016000819055505b5b505600a165627a7a72305820c91f1c2bda7f9809f92a688069a02b7ddcdfce38044cab6fcaae5a0aa5b104f10029'"
      ]
     },
     "execution_count": 22,
     "metadata": {},
     "output_type": "execute_result"
    }
   ],
   "source": [
    "contract_interface['bin']"
   ]
  },
  {
   "cell_type": "code",
   "execution_count": 23,
   "metadata": {},
   "outputs": [],
   "source": [
    "NODE_ADDR = 'http://XXX.XXX.p2pify.com:8545'"
   ]
  },
  {
   "cell_type": "code",
   "execution_count": 24,
   "metadata": {
    "scrolled": true,
    "slideshow": {
     "slide_type": "subslide"
    }
   },
   "outputs": [],
   "source": [
    "# web3.py instance\n",
    "w3 = Web3(Web3.HTTPProvider(NODE_ADDR))"
   ]
  },
  {
   "cell_type": "code",
   "execution_count": 25,
   "metadata": {
    "scrolled": true
   },
   "outputs": [],
   "source": [
    "# inject the poa compatibility middleware to the innermost layer\n",
    "from web3.middleware import geth_poa_middleware\n",
    "w3.middleware_stack.inject(geth_poa_middleware, layer=0)"
   ]
  },
  {
   "cell_type": "code",
   "execution_count": 26,
   "metadata": {
    "scrolled": true
   },
   "outputs": [
    {
     "data": {
      "text/plain": [
       "'Geth/v1.8.12-stable-c6f0ae4e/linux-amd64/go1.9.7'"
      ]
     },
     "execution_count": 26,
     "metadata": {},
     "output_type": "execute_result"
    }
   ],
   "source": [
    "w3.version.node"
   ]
  },
  {
   "cell_type": "code",
   "execution_count": 27,
   "metadata": {
    "scrolled": true
   },
   "outputs": [
    {
     "data": {
      "text/plain": [
       "('Account:', '0x76275BfA3E040e695C03aCBA7BBf34507AAe8E84')"
      ]
     },
     "execution_count": 27,
     "metadata": {},
     "output_type": "execute_result"
    }
   ],
   "source": [
    "# set pre-funded account as sender\n",
    "w3.eth.defaultAccount = w3.eth.accounts[0]\n",
    "'Account:', w3.eth.defaultAccount"
   ]
  },
  {
   "cell_type": "code",
   "execution_count": 28,
   "metadata": {
    "scrolled": true
   },
   "outputs": [],
   "source": [
    "# Instantiate and deploy contract\n",
    "simplestorage = w3.eth.contract(\n",
    "    abi=contract_interface['abi'],\n",
    "    bytecode=contract_interface['bin']\n",
    ")"
   ]
  },
  {
   "cell_type": "code",
   "execution_count": 29,
   "metadata": {},
   "outputs": [],
   "source": [
    "# Mom's addr here\n",
    "otherParentAddr = '0x9664b1d0207b6eaea44d7141a322f659cf580816' "
   ]
  },
  {
   "cell_type": "code",
   "execution_count": 30,
   "metadata": {
    "scrolled": true
   },
   "outputs": [],
   "source": [
    "tx_hash = simplestorage.constructor(Web3.toChecksumAddress(otherParentAddr)).transact()"
   ]
  },
  {
   "cell_type": "code",
   "execution_count": 31,
   "metadata": {
    "scrolled": true
   },
   "outputs": [
    {
     "data": {
      "text/plain": [
       "HexBytes('0x7ba94d3666699a32126c954fda9cb4c86e22e1d184432508728959cb7a174524')"
      ]
     },
     "execution_count": 31,
     "metadata": {},
     "output_type": "execute_result"
    }
   ],
   "source": [
    "tx_hash"
   ]
  },
  {
   "cell_type": "code",
   "execution_count": 32,
   "metadata": {
    "scrolled": true
   },
   "outputs": [],
   "source": [
    "# Wait for the transaction to be mined, and get the transaction receipt\n",
    "tx_receipt = w3.eth.waitForTransactionReceipt(tx_hash)"
   ]
  },
  {
   "cell_type": "code",
   "execution_count": 33,
   "metadata": {
    "scrolled": true
   },
   "outputs": [
    {
     "data": {
      "text/plain": [
       "('Block number:', 3985)"
      ]
     },
     "execution_count": 33,
     "metadata": {},
     "output_type": "execute_result"
    }
   ],
   "source": [
    "'Block number:', tx_receipt.blockNumber"
   ]
  },
  {
   "cell_type": "code",
   "execution_count": 34,
   "metadata": {
    "scrolled": true
   },
   "outputs": [
    {
     "data": {
      "text/plain": [
       "('Contract address:', '0xa2B5e8e28e7E0187ee955b04C48f715ac43fcE08')"
      ]
     },
     "execution_count": 34,
     "metadata": {},
     "output_type": "execute_result"
    }
   ],
   "source": [
    "'Contract address:', tx_receipt.contractAddress"
   ]
  },
  {
   "cell_type": "code",
   "execution_count": 35,
   "metadata": {
    "scrolled": true
   },
   "outputs": [],
   "source": [
    "simplestorage = w3.eth.contract(\n",
    "    address=tx_receipt.contractAddress,\n",
    "    abi=contract_interface['abi'],\n",
    ")"
   ]
  },
  {
   "cell_type": "code",
   "execution_count": 37,
   "metadata": {
    "scrolled": true
   },
   "outputs": [
    {
     "data": {
      "text/plain": [
       "('Balance:', 1000)"
      ]
     },
     "execution_count": 37,
     "metadata": {},
     "output_type": "execute_result"
    }
   ],
   "source": [
    "'Balance:', simplestorage.functions.getBalance().call()"
   ]
  }
 ],
 "metadata": {
  "kernelspec": {
   "display_name": "quorum-meetup",
   "language": "python",
   "name": "quorum-meetup"
  },
  "language_info": {
   "codemirror_mode": {
    "name": "ipython",
    "version": 3
   },
   "file_extension": ".py",
   "mimetype": "text/x-python",
   "name": "python",
   "nbconvert_exporter": "python",
   "pygments_lexer": "ipython3",
   "version": "3.7.4"
  }
 },
 "nbformat": 4,
 "nbformat_minor": 2
}
