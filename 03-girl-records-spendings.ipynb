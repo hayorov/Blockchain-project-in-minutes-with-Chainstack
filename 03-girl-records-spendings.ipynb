{
 "cells": [
  {
   "cell_type": "code",
   "execution_count": 13,
   "metadata": {},
   "outputs": [],
   "source": [
    "import json\n",
    "import web3\n",
    "\n",
    "from web3 import Web3\n",
    "from solc import compile_source\n",
    "from web3.contract import ConciseContract"
   ]
  },
  {
   "cell_type": "code",
   "execution_count": 14,
   "metadata": {},
   "outputs": [],
   "source": [
    "# Solidity source code\n",
    "contract_source_code = '''\n",
    "pragma solidity >0.4.0;\n",
    "\n",
    "contract simplestorage {\n",
    "\n",
    "  int public familyBalance;\n",
    "  address public otherParentAddr;\n",
    "  address public balanceSetterAddr;\n",
    "\n",
    "  constructor(address parentAddr) public {\n",
    "    familyBalance = 0;\n",
    "    balanceSetterAddr = msg.sender;\n",
    "    otherParentAddr = parentAddr;\n",
    "  }\n",
    "\n",
    "  function makeRecord(int x) public {\n",
    "    if (x <= 0) {\n",
    "        familyBalance = familyBalance + x;\n",
    "    }\n",
    "    else {\n",
    "        if (msg.sender == balanceSetterAddr || msg.sender == otherParentAddr) {\n",
    "            familyBalance = familyBalance + x;\n",
    "        }\n",
    "    }\n",
    "  }\n",
    "\n",
    "  function getBalance() public view returns (int retVal) {\n",
    "    return familyBalance;\n",
    "  }\n",
    "\n",
    "}\n",
    "'''\n",
    "# Compiled source code\n",
    "compiled_sol = compile_source(contract_source_code) \n",
    "contract_interface = compiled_sol['<stdin>:simplestorage']"
   ]
  },
  {
   "cell_type": "code",
   "execution_count": 15,
   "metadata": {},
   "outputs": [],
   "source": [
    "NODE_ADDR = 'http://XXX.XXX.p2pify.com:8545'"
   ]
  },
  {
   "cell_type": "code",
   "execution_count": 16,
   "metadata": {},
   "outputs": [],
   "source": [
    "# web3.py instance\n",
    "w3 = Web3(Web3.HTTPProvider(NODE_ADDR))"
   ]
  },
  {
   "cell_type": "code",
   "execution_count": 17,
   "metadata": {},
   "outputs": [],
   "source": [
    "# inject the poa compatibility middleware to the innermost layer\n",
    "from web3.middleware import geth_poa_middleware\n",
    "w3.middleware_stack.inject(geth_poa_middleware, layer=0)"
   ]
  },
  {
   "cell_type": "code",
   "execution_count": 18,
   "metadata": {},
   "outputs": [],
   "source": [
    "contract_address = '0xa2B5e8e28e7E0187ee955b04C48f715ac43fcE08'"
   ]
  },
  {
   "cell_type": "code",
   "execution_count": 19,
   "metadata": {},
   "outputs": [],
   "source": [
    "simplestorage = w3.eth.contract(\n",
    "    address=contract_address,\n",
    "    abi=contract_interface['abi'],\n",
    ")"
   ]
  },
  {
   "cell_type": "code",
   "execution_count": 20,
   "metadata": {},
   "outputs": [],
   "source": [
    "w3.eth.defaultAccount = w3.eth.accounts[0]"
   ]
  },
  {
   "cell_type": "code",
   "execution_count": 21,
   "metadata": {},
   "outputs": [],
   "source": [
    "tx_hash = simplestorage.functions.makeRecord(-15).transact()"
   ]
  },
  {
   "cell_type": "code",
   "execution_count": 22,
   "metadata": {},
   "outputs": [
    {
     "data": {
      "text/plain": [
       "HexBytes('0xe2763229994b4226ee477c77cc413a19846c6c1fc44eeb02c9c165cfd8177d2e')"
      ]
     },
     "execution_count": 22,
     "metadata": {},
     "output_type": "execute_result"
    }
   ],
   "source": [
    "tx_hash"
   ]
  },
  {
   "cell_type": "code",
   "execution_count": 23,
   "metadata": {},
   "outputs": [
    {
     "data": {
      "text/plain": [
       "('Storage value:', 985)"
      ]
     },
     "execution_count": 23,
     "metadata": {},
     "output_type": "execute_result"
    }
   ],
   "source": [
    "'Storage value:', simplestorage.functions.getBalance().call()"
   ]
  }
 ],
 "metadata": {
  "kernelspec": {
   "display_name": "quorum-meetup",
   "language": "python",
   "name": "quorum-meetup"
  },
  "language_info": {
   "codemirror_mode": {
    "name": "ipython",
    "version": 3
   },
   "file_extension": ".py",
   "mimetype": "text/x-python",
   "name": "python",
   "nbconvert_exporter": "python",
   "pygments_lexer": "ipython3",
   "version": "3.7.4"
  }
 },
 "nbformat": 4,
 "nbformat_minor": 2
}
